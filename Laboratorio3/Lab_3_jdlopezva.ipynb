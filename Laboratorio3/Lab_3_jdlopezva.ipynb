{
  "nbformat": 4,
  "nbformat_minor": 0,
  "metadata": {
    "colab": {
      "provenance": []
    },
    "kernelspec": {
      "name": "python3",
      "display_name": "Python 3"
    },
    "language_info": {
      "name": "python"
    }
  },
  "cells": [
    {
      "cell_type": "markdown",
      "source": [
        "Publicaciones sobre los certificados realizados en LinkedIn. "
      ],
      "metadata": {
        "id": "iDJeNHkWjlun"
      }
    },
    {
      "cell_type": "markdown",
      "source": [
        "Curso 1: Python 101 for Data Science."
      ],
      "metadata": {
        "id": "jfZ_oKOyjIm2"
      }
    },
    {
      "cell_type": "markdown",
      "source": [
        "[https://www.linkedin.com/posts/jdlopezva_python-101-for-data-science-ibm-certified-activity-7041802750698909697-11Ak?utm_source=share&utm_medium=member_desktop](https://www.linkedin.com/posts/jdlopezva_python-101-for-data-science-ibm-certified-activity-7041802750698909697-11Ak?utm_source=share&utm_medium=member_desktop)"
      ],
      "metadata": {
        "id": "u2zs6bmCjWh6"
      }
    },
    {
      "cell_type": "markdown",
      "source": [
        "Curso 2: Data Analysis with Python."
      ],
      "metadata": {
        "id": "Ct1TXK4qffBG"
      }
    },
    {
      "cell_type": "markdown",
      "source": [
        "https://www.linkedin.com/posts/jdlopezva_data-analysis-with-python-ibm-certified-activity-7041803489424855040-8_OL?utm_source=share&utm_medium=member_desktop"
      ],
      "metadata": {
        "id": "kaGsxFRafrp9"
      }
    },
    {
      "cell_type": "markdown",
      "source": [
        "Curso 3: Data Visualization with Python"
      ],
      "metadata": {
        "id": "K8iJ5Eagfxn8"
      }
    },
    {
      "cell_type": "markdown",
      "source": [
        "https://www.linkedin.com/posts/jdlopezva_data-visualization-with-python-ibm-certified-activity-7041803153071042560-hCtl?utm_source=share&utm_medium=member_desktop"
      ],
      "metadata": {
        "id": "URHBysLLgi99"
      }
    }
  ]
}